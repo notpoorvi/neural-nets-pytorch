{
 "cells": [
  {
   "cell_type": "code",
   "execution_count": 1,
   "id": "56b1f636-6637-428d-93e8-8baffc3314e0",
   "metadata": {},
   "outputs": [],
   "source": [
    "import torch\n",
    "import torch.nn as nn\n",
    "import matplotlib.pyplot as plt\n",
    "import torch.optim as optim"
   ]
  },
  {
   "cell_type": "code",
   "execution_count": 2,
   "id": "d4f7cf8f-b8b3-436b-b196-8a792c6042a3",
   "metadata": {},
   "outputs": [
    {
     "data": {
      "text/plain": [
       "'mps'"
      ]
     },
     "execution_count": 2,
     "metadata": {},
     "output_type": "execute_result"
    }
   ],
   "source": [
    "device = 'mps' if torch.mps.is_available() else 'cpu'\n",
    "device"
   ]
  },
  {
   "cell_type": "code",
   "execution_count": 3,
   "id": "7273699b-01d9-42c1-9c67-fe1554c8b4af",
   "metadata": {},
   "outputs": [],
   "source": [
    "weight = 0.3\n",
    "bias = 0.9\n",
    "\n",
    "X = torch.arange(0, 1, 0.01).unsqueeze(dim=1)\n",
    "y = weight * X + bias"
   ]
  },
  {
   "cell_type": "code",
   "execution_count": 4,
   "id": "44844e31-5031-4425-98ed-2d5f7717d227",
   "metadata": {},
   "outputs": [
    {
     "data": {
      "text/plain": [
       "(80, 80, 20, 20)"
      ]
     },
     "execution_count": 4,
     "metadata": {},
     "output_type": "execute_result"
    }
   ],
   "source": [
    "splitter = int(0.8 * len(X))\n",
    "X_train, y_train = X[:splitter], y[:splitter]\n",
    "X_test, y_test = X[splitter:], y[splitter:]\n",
    "len(X_train), len(y_train), len(X_test), len(y_test)"
   ]
  },
  {
   "cell_type": "code",
   "execution_count": 5,
   "id": "63ba7fb7-0b5e-4e16-b84b-f01647e977e5",
   "metadata": {},
   "outputs": [],
   "source": [
    "def plot_data(train_data=X_train,\n",
    "          train_labels=y_train,\n",
    "          test_data=X_test,\n",
    "          test_labels=y_test,\n",
    "          preds=None):\n",
    "    plt.figure(figsize = (10,7))\n",
    "    plt.scatter(train_data, train_labels, c='b', s = 4, label='Train')\n",
    "    plt.scatter(test_data, test_labels, c='g', s = 4, label='Test')\n",
    "    if preds is not None:\n",
    "        plt.scatter(test_data, preds, c='r', s = 4, label='Predictions')\n",
    "    plt.legend()"
   ]
  },
  {
   "cell_type": "code",
   "execution_count": 6,
   "id": "7d38d7f2-033c-4d69-8acb-5d351ffb40f3",
   "metadata": {},
   "outputs": [
    {
     "data": {
      "image/png": "[encoded data removed]",
      "text/plain": [
       "<Figure size 1000x700 with 1 Axes>"
      ]
     },
     "metadata": {},
     "output_type": "display_data"
    }
   ],
   "source": [
    "plot_data()"
   ]
  },
  {
   "cell_type": "code",
   "execution_count": 7,
   "id": "02201205-b078-4afb-a919-db887b4a6f6b",
   "metadata": {},
   "outputs": [],
   "source": [
    "class NewModel(nn.Module):\n",
    "    def __init__(self):\n",
    "        super().__init__()\n",
    "        self.weight = nn.Parameter(data=torch.randn(1, dtype=torch.float32, requires_grad=True))\n",
    "        self.bias = nn.Parameter(data=torch.randn(1, dtype=torch.float32, requires_grad=True))\n",
    "        # self.linear_layer = nn.Linear(in_features=1, out_features=1)\n",
    "\n",
    "    def forward(self, x):\n",
    "        # return self.linear_layer(x)\n",
    "        return self.weight * x + self.bias"
   ]
  },
  {
   "cell_type": "code",
   "execution_count": 8,
   "id": "9762b4cf-af33-4676-ab24-d85649b85950",
   "metadata": {},
   "outputs": [
    {
     "name": "stdout",
     "output_type": "stream",
     "text": [
      "NewModel()\n",
      "OrderedDict([('weight', tensor([0.3367])), ('bias', tensor([0.1288]))])\n"
     ]
    }
   ],
   "source": [
    "torch.manual_seed(42)\n",
    "model = NewModel()\n",
    "\n",
    "from pprint import pprint\n",
    "\n",
    "pprint(model)\n",
    "pprint(model.state_dict())"
   ]
  },
  {
   "cell_type": "code",
   "execution_count": 9,
   "id": "d33e8a37-64dd-4eca-a8d7-ffefafe2bc39",
   "metadata": {},
   "outputs": [
    {
     "data": {
      "text/plain": [
       "NewModel()"
      ]
     },
     "execution_count": 9,
     "metadata": {},
     "output_type": "execute_result"
    }
   ],
   "source": [
    "model.to(device)"
   ]
  },
  {
   "cell_type": "code",
   "execution_count": 10,
   "id": "d8bd94cf-8413-4680-92ce-2af678f8d9dc",
   "metadata": {},
   "outputs": [],
   "source": [
    "loss_fn = nn.L1Loss()\n",
    "optimizer = optim.SGD(params=model.parameters(), lr=0.01)"
   ]
  },
  {
   "cell_type": "code",
   "execution_count": 11,
   "id": "9a41fdce-e918-4c53-89d7-e0c3f00ae5ca",
   "metadata": {},
   "outputs": [
    {
     "name": "stdout",
     "output_type": "stream",
     "text": [
      "Epoch 0 | Train Loss 0.7566978931427002 | Test Loss 0.7248174548149109\n",
      "Epoch 20 | Train Loss 0.5254929065704346 | Test Loss 0.4541124403476715\n",
      "Epoch 40 | Train Loss 0.2942880392074585 | Test Loss 0.18340764939785004\n",
      "Epoch 60 | Train Loss 0.07658576965332031 | Test Loss 0.07274086028337479\n",
      "Epoch 80 | Train Loss 0.05255373939871788 | Test Loss 0.11581540107727051\n",
      "Epoch 100 | Train Loss 0.04554273188114166 | Test Loss 0.10467890650033951\n",
      "Epoch 120 | Train Loss 0.038688670843839645 | Test Loss 0.08938358724117279\n",
      "Epoch 140 | Train Loss 0.03183453530073166 | Test Loss 0.07408786565065384\n",
      "Epoch 160 | Train Loss 0.024982361122965813 | Test Loss 0.0581042543053627\n",
      "Epoch 180 | Train Loss 0.018130186945199966 | Test Loss 0.04212063178420067\n",
      "Epoch 200 | Train Loss 0.011278990656137466 | Test Loss 0.02579306997358799\n",
      "Epoch 220 | Train Loss 0.004429381340742111 | Test Loss 0.009467745199799538\n",
      "Epoch 240 | Train Loss 0.00370177929289639 | Test Loss 0.006489444058388472\n",
      "Epoch 260 | Train Loss 0.00370177929289639 | Test Loss 0.006489444058388472\n",
      "Epoch 280 | Train Loss 0.00370177929289639 | Test Loss 0.006489444058388472\n"
     ]
    }
   ],
   "source": [
    "train_loss = []\n",
    "test_loss = []\n",
    "epoch_count = []\n",
    "\n",
    "torch.manual_seed(42)\n",
    "\n",
    "epochs = 300\n",
    "\n",
    "X_train = X_train.to(device)\n",
    "X_test = X_test.to(device)\n",
    "y_train = y_train.to(device)\n",
    "y_test = y_test.to(device)\n",
    "\n",
    "for epoch in range(epochs):\n",
    "    model.train()\n",
    "    train_output = model(X_train)\n",
    "    loss = loss_fn(train_output, y_train)\n",
    "    optimizer.zero_grad()\n",
    "    loss.backward()\n",
    "    optimizer.step()\n",
    "\n",
    "    if epoch % 20 == 0:\n",
    "        model.eval()\n",
    "        with torch.inference_mode():\n",
    "            test_output = model(X_test)\n",
    "            test_loss = loss_fn(test_output, y_test)\n",
    "            print(f'Epoch {epoch} | Train Loss {loss} | Test Loss {test_loss}')"
   ]
  },
  {
   "cell_type": "code",
   "execution_count": 12,
   "id": "13da28d1-08de-4478-8232-a3931d063bbc",
   "metadata": {},
   "outputs": [
    {
     "data": {
      "text/plain": [
       "OrderedDict([('weight', tensor([0.3067], device='mps:0')),\n",
       "             ('bias', tensor([0.9011], device='mps:0'))])"
      ]
     },
     "execution_count": 12,
     "metadata": {},
     "output_type": "execute_result"
    }
   ],
   "source": [
    "model.state_dict()"
   ]
  },
  {
   "cell_type": "code",
   "execution_count": 13,
   "id": "d066ab77-bbd2-4899-9256-b52d63d3254a",
   "metadata": {},
   "outputs": [],
   "source": [
    "model.eval()\n",
    "with torch.inference_mode():\n",
    "    ypreds = model(X_test)"
   ]
  },
  {
   "cell_type": "code",
   "execution_count": 14,
   "id": "e90ea223-eb24-4c02-83fe-6fd24e05b47e",
   "metadata": {},
   "outputs": [],
   "source": [
    "ypreds = ypreds.cpu()"
   ]
  },
  {
   "cell_type": "code",
   "execution_count": 15,
   "id": "45a20193-1991-4cc9-a105-46b16c565b9a",
   "metadata": {},
   "outputs": [],
   "source": [
    "# X_train = X_train.cpu()\n",
    "# X_test = X_test.cpu()\n",
    "# y_train = y_train.cpu()\n",
    "# y_test = y_test.cpu()"
   ]
  },
  {
   "cell_type": "code",
   "execution_count": 16,
   "id": "121e4a6d-12c9-4c89-8b69-de0f3b8388af",
   "metadata": {},
   "outputs": [
    {
     "data": {
      "text/plain": [
       "(80, 80)"
      ]
     },
     "execution_count": 16,
     "metadata": {},
     "output_type": "execute_result"
    }
   ],
   "source": [
    "len(X_train), len(y_train)"
   ]
  },
  {
   "cell_type": "code",
   "execution_count": 18,
   "id": "21d41a60-4f06-4072-bb52-c546f4c30cce",
   "metadata": {},
   "outputs": [
    {
     "data": {
      "image/png": "[encoded data removed]",
      "text/plain": [
       "<Figure size 1000x700 with 1 Axes>"
      ]
     },
     "metadata": {},
     "output_type": "display_data"
    }
   ],
   "source": [
    "plot_data(preds=ypreds)"
   ]
  },
  {
   "cell_type": "code",
   "execution_count": 24,
   "id": "47fdd4ff-e622-4d75-808d-cad1bba7efc9",
   "metadata": {},
   "outputs": [
    {
     "name": "stdout",
     "output_type": "stream",
     "text": [
      "Saving model to models/01_pytorch_model\n"
     ]
    }
   ],
   "source": [
    "from pathlib import Path\n",
    "\n",
    "MODEL_PATH = Path(\"models\")\n",
    "MODEL_PATH.mkdir(parents = True,exist_ok = True)\n",
    "\n",
    "MODEL_NAME = \"01_pytorch_model\"\n",
    "MODEL_SAVE_PATH = MODEL_PATH / MODEL_NAME \n",
    "\n",
    "print(f\"Saving model to {MODEL_SAVE_PATH}\")\n",
    "torch.save(obj = model.state_dict(),f = MODEL_SAVE_PATH)"
   ]
  },
  {
   "cell_type": "code",
   "execution_count": 25,
   "id": "7ca73d84-41d7-4311-9240-99c356643981",
   "metadata": {},
   "outputs": [],
   "source": [
    "loaded_model = NewModel()\n",
    "loaded_model.load_state_dict"
   ]
  },
  {
   "cell_type": "code",
   "execution_count": 29,
   "id": "0db24d10-b717-484e-baef-513096a3a0a3",
   "metadata": {},
   "outputs": [
    {
     "name": "stderr",
     "output_type": "stream",
     "text": [
      "/var/folders/fz/m3b664vj5hq4kdmwr645k9_h0000gn/T/ipykernel_78664/1318612949.py:1: FutureWarning: You are using `torch.load` with `weights_only=False` (the current default value), which uses the default pickle module implicitly. It is possible to construct malicious pickle data which will execute arbitrary code during unpickling (See https://github.com/pytorch/pytorch/blob/main/SECURITY.md#untrusted-models for more details). In a future release, the default value for `weights_only` will be flipped to `True`. This limits the functions that could be executed during unpickling. Arbitrary objects will no longer be allowed to be loaded via this mode unless they are explicitly allowlisted by the user via `torch.serialization.add_safe_globals`. We recommend you start setting `weights_only=True` for any use case where you don't have full control of the loaded file. Please open an issue on GitHub for any issues related to this experimental feature.\n",
      "  loaded_model.load_state_dict(torch.load(f=MODEL_SAVE_PATH))\n"
     ]
    },
    {
     "data": {
      "text/plain": [
       "<All keys matched successfully>"
      ]
     },
     "execution_count": 29,
     "metadata": {},
     "output_type": "execute_result"
    }
   ],
   "source": [
    "loaded_model.load_state_dict(torch.load(f=MODEL_SAVE_PATH))"
   ]
  },
  {
   "cell_type": "code",
   "execution_count": 30,
   "id": "061880a1-c607-4ad3-a3ce-9f88ab9f0e88",
   "metadata": {},
   "outputs": [
    {
     "data": {
      "text/plain": [
       "OrderedDict([('weight', tensor([0.3067])), ('bias', tensor([0.9011]))])"
      ]
     },
     "execution_count": 30,
     "metadata": {},
     "output_type": "execute_result"
    }
   ],
   "source": [
    "loaded_model.state_dict()"
   ]
  },
  {
   "cell_type": "code",
   "execution_count": 32,
   "id": "a98c7697-341b-450c-8f24-f97f8b6b1a0d",
   "metadata": {},
   "outputs": [],
   "source": [
    "X_train = X_train.to(device)\n",
    "X_test = X_test.to(device)\n",
    "y_train = y_train.to(device)\n",
    "y_test = y_test.to(device)"
   ]
  },
  {
   "cell_type": "code",
   "execution_count": 36,
   "id": "67942157-15bb-42bb-8493-0ad3711795ba",
   "metadata": {},
   "outputs": [
    {
     "data": {
      "text/plain": [
       "NewModel()"
      ]
     },
     "execution_count": 36,
     "metadata": {},
     "output_type": "execute_result"
    }
   ],
   "source": [
    "loaded_model.to(device)"
   ]
  },
  {
   "cell_type": "code",
   "execution_count": 37,
   "id": "70600c59-01b9-4e30-aae3-586f4a630bbf",
   "metadata": {},
   "outputs": [],
   "source": [
    "loaded_model.eval()\n",
    "with torch.inference_mode():\n",
    "    loaded_ypreds = loaded_model(X_test)"
   ]
  },
  {
   "cell_type": "code",
   "execution_count": 40,
   "id": "3dc3985d-9394-4fc1-b910-069beb1a2fdc",
   "metadata": {},
   "outputs": [
    {
     "data": {
      "text/plain": [
       "tensor([[True],\n",
       "        [True],\n",
       "        [True],\n",
       "        [True],\n",
       "        [True],\n",
       "        [True],\n",
       "        [True],\n",
       "        [True],\n",
       "        [True],\n",
       "        [True],\n",
       "        [True],\n",
       "        [True],\n",
       "        [True],\n",
       "        [True],\n",
       "        [True],\n",
       "        [True],\n",
       "        [True],\n",
       "        [True],\n",
       "        [True],\n",
       "        [True]])"
      ]
     },
     "execution_count": 40,
     "metadata": {},
     "output_type": "execute_result"
    }
   ],
   "source": [
    "loaded_ypreds.cpu() == ypreds"
   ]
  },
  {
   "cell_type": "code",
   "execution_count": null,
   "id": "8eefd700-fa0c-4ac0-ae30-f62cccd9ebec",
   "metadata": {},
   "outputs": [],
   "source": []
  }
 ],
 "metadata": {
  "kernelspec": {
   "display_name": "Python 3 (ipykernel)",
   "language": "python",
   "name": "python3"
  },
  "language_info": {
   "codemirror_mode": {
    "name": "ipython",
    "version": 3
   },
   "file_extension": ".py",
   "mimetype": "text/x-python",
   "name": "python",
   "nbconvert_exporter": "python",
   "pygments_lexer": "ipython3",
   "version": "3.10.6"
  }
 },
 "nbformat": 4,
 "nbformat_minor": 5
}
