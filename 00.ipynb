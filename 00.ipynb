{
 "cells": [
  {
   "cell_type": "code",
   "execution_count": 1,
   "id": "889156a9-4407-4d9c-a110-067637c9ee3e",
   "metadata": {},
   "outputs": [],
   "source": [
    "import torch"
   ]
  },
  {
   "cell_type": "code",
   "execution_count": 2,
   "id": "5539ff07-e60e-4b09-b8ba-8fc8ab6bee0f",
   "metadata": {},
   "outputs": [
    {
     "data": {
      "text/plain": [
       "'mps'"
      ]
     },
     "execution_count": 2,
     "metadata": {},
     "output_type": "execute_result"
    }
   ],
   "source": [
    "device = \"mps\" if torch.backends.mps.is_available() else \"cpu\"\n",
    "device"
   ]
  },
  {
   "cell_type": "code",
   "execution_count": 3,
   "id": "d0050fbe-2b89-4732-8714-bc17e9393a54",
   "metadata": {},
   "outputs": [],
   "source": [
    "RANDOM_SEED = 0"
   ]
  },
  {
   "cell_type": "code",
   "execution_count": 4,
   "id": "4041dbbe-1964-4ff6-aa21-115cc9eae710",
   "metadata": {},
   "outputs": [
    {
     "data": {
      "text/plain": [
       "<torch._C.Generator at 0x1046589b0>"
      ]
     },
     "execution_count": 4,
     "metadata": {},
     "output_type": "execute_result"
    }
   ],
   "source": [
    "torch.manual_seed(seed=RANDOM_SEED)"
   ]
  },
  {
   "cell_type": "code",
   "execution_count": 5,
   "id": "a9f4df93-df87-41b3-909e-072975df2cab",
   "metadata": {},
   "outputs": [],
   "source": [
    "random_tensor = torch.rand(7, 7)"
   ]
  },
  {
   "cell_type": "code",
   "execution_count": 6,
   "id": "a7e1f56e-f93d-4be5-86d7-9b7bc34720e4",
   "metadata": {},
   "outputs": [
    {
     "data": {
      "text/plain": [
       "tensor([[0.4963, 0.7682, 0.0885, 0.1320, 0.3074, 0.6341, 0.4901],\n",
       "        [0.8964, 0.4556, 0.6323, 0.3489, 0.4017, 0.0223, 0.1689],\n",
       "        [0.2939, 0.5185, 0.6977, 0.8000, 0.1610, 0.2823, 0.6816],\n",
       "        [0.9152, 0.3971, 0.8742, 0.4194, 0.5529, 0.9527, 0.0362],\n",
       "        [0.1852, 0.3734, 0.3051, 0.9320, 0.1759, 0.2698, 0.1507],\n",
       "        [0.0317, 0.2081, 0.9298, 0.7231, 0.7423, 0.5263, 0.2437],\n",
       "        [0.5846, 0.0332, 0.1387, 0.2422, 0.8155, 0.7932, 0.2783]])"
      ]
     },
     "execution_count": 6,
     "metadata": {},
     "output_type": "execute_result"
    }
   ],
   "source": [
    "random_tensor"
   ]
  },
  {
   "cell_type": "code",
   "execution_count": 7,
   "id": "9b50d0b0-06ac-4055-8030-33137502a276",
   "metadata": {},
   "outputs": [],
   "source": [
    "another_random_tensor = torch.rand(1, 7).T"
   ]
  },
  {
   "cell_type": "code",
   "execution_count": 8,
   "id": "9e89c443-3ab2-47ee-ad05-7726ec64e829",
   "metadata": {},
   "outputs": [
    {
     "data": {
      "text/plain": [
       "tensor([[0.4820],\n",
       "        [0.8198],\n",
       "        [0.9971],\n",
       "        [0.6984],\n",
       "        [0.5675],\n",
       "        [0.8352],\n",
       "        [0.2056]])"
      ]
     },
     "execution_count": 8,
     "metadata": {},
     "output_type": "execute_result"
    }
   ],
   "source": [
    "another_random_tensor"
   ]
  },
  {
   "cell_type": "code",
   "execution_count": 9,
   "id": "75e92b6c-4285-451d-a7ef-f5c14edaf938",
   "metadata": {},
   "outputs": [],
   "source": [
    "mm = torch.mm(random_tensor, another_random_tensor)"
   ]
  },
  {
   "cell_type": "code",
   "execution_count": 10,
   "id": "0c2210c8-2fe7-4df9-8c37-422793d605e1",
   "metadata": {},
   "outputs": [
    {
     "data": {
      "text/plain": [
       "tensor([[1.8542],\n",
       "        [1.9611],\n",
       "        [2.2884],\n",
       "        [3.0481],\n",
       "        [1.7067],\n",
       "        [2.5290],\n",
       "        [1.7989]])"
      ]
     },
     "execution_count": 10,
     "metadata": {},
     "output_type": "execute_result"
    }
   ],
   "source": [
    "mm"
   ]
  },
  {
   "cell_type": "code",
   "execution_count": 11,
   "id": "3810b65a-f9c4-4d04-988e-26990bfefe31",
   "metadata": {},
   "outputs": [],
   "source": [
    "torch.mps.manual_seed(seed=1234)"
   ]
  },
  {
   "cell_type": "code",
   "execution_count": 12,
   "id": "b15ca881-60de-4576-af06-ec458515e897",
   "metadata": {},
   "outputs": [
    {
     "data": {
      "text/plain": [
       "<torch._C.Generator at 0x1046589b0>"
      ]
     },
     "execution_count": 12,
     "metadata": {},
     "output_type": "execute_result"
    }
   ],
   "source": [
    "torch.manual_seed(1234)"
   ]
  },
  {
   "cell_type": "code",
   "execution_count": 13,
   "id": "45bdcfc4-8580-429e-8c74-02879bef20cb",
   "metadata": {},
   "outputs": [
    {
     "data": {
      "text/plain": [
       "tensor([[0.0518, 0.4681, 0.6738],\n",
       "        [0.3315, 0.7837, 0.5631]], device='mps:0')"
      ]
     },
     "execution_count": 13,
     "metadata": {},
     "output_type": "execute_result"
    }
   ],
   "source": [
    "one = torch.rand(2, 3)\n",
    "two = torch.rand(2, 3)\n",
    "one.to(device)\n",
    "two.to(device)"
   ]
  },
  {
   "cell_type": "code",
   "execution_count": 14,
   "id": "44bb503f-d640-404b-8441-ec529fd22dc0",
   "metadata": {},
   "outputs": [],
   "source": [
    "new_mm = torch.mm(one, two.T)"
   ]
  },
  {
   "cell_type": "code",
   "execution_count": 15,
   "id": "57162feb-16f3-4b63-b6e5-f6b7eacf06be",
   "metadata": {},
   "outputs": [
    {
     "data": {
      "text/plain": [
       "(tensor(0.5617), tensor(0.3647), tensor(3), tensor(0))"
      ]
     },
     "execution_count": 15,
     "metadata": {},
     "output_type": "execute_result"
    }
   ],
   "source": [
    "new_mm.max(), new_mm.min(), new_mm.argmax(), new_mm.argmin()"
   ]
  },
  {
   "cell_type": "code",
   "execution_count": 16,
   "id": "7084522e-d246-4240-9c7c-40379af23db5",
   "metadata": {},
   "outputs": [],
   "source": [
    "torch.manual_seed(7)\n",
    "rand_tensor = torch.rand(1, 1, 1, 10)"
   ]
  },
  {
   "cell_type": "code",
   "execution_count": 17,
   "id": "781a85c4-9f81-4f7f-ba45-2de9b92c1538",
   "metadata": {},
   "outputs": [
    {
     "data": {
      "text/plain": [
       "tensor([0.5349, 0.1988, 0.6592, 0.6569, 0.2328, 0.4251, 0.2071, 0.6297, 0.3653,\n",
       "        0.8513])"
      ]
     },
     "execution_count": 17,
     "metadata": {},
     "output_type": "execute_result"
    }
   ],
   "source": [
    "new = rand_tensor.squeeze()\n",
    "new"
   ]
  },
  {
   "cell_type": "code",
   "execution_count": null,
   "id": "63075218-0eeb-4cc6-a452-670313de9c02",
   "metadata": {},
   "outputs": [],
   "source": []
  },
  {
   "cell_type": "code",
   "execution_count": null,
   "id": "6fa4da6f-c5a7-442a-a742-eb717504c67a",
   "metadata": {},
   "outputs": [],
   "source": []
  },
  {
   "cell_type": "code",
   "execution_count": null,
   "id": "032b8495-00e9-4f37-a5e4-33482f151a7c",
   "metadata": {},
   "outputs": [],
   "source": []
  },
  {
   "cell_type": "code",
   "execution_count": null,
   "id": "1fb69a37-a8ed-433c-ab68-4263202b1986",
   "metadata": {},
   "outputs": [],
   "source": []
  },
  {
   "cell_type": "code",
   "execution_count": 18,
   "id": "6349040c-e441-4436-9fa9-7a5d7ab04da9",
   "metadata": {},
   "outputs": [
    {
     "data": {
      "text/plain": [
       "'2.5.1'"
      ]
     },
     "execution_count": 18,
     "metadata": {},
     "output_type": "execute_result"
    }
   ],
   "source": [
    "import torch\n",
    "from torch import nn # nn contains all of PyTorch's building blocks for neural networks\n",
    "import matplotlib.pyplot as plt\n",
    "\n",
    "torch.__version__"
   ]
  },
  {
   "cell_type": "code",
   "execution_count": 19,
   "id": "d737e61e-cf62-4176-b7d6-85dc17399dca",
   "metadata": {},
   "outputs": [],
   "source": [
    "# create data\n",
    "# Create *known* parameters\n",
    "weight = 0.7\n",
    "bias = 0.3\n",
    "\n",
    "# Create data\n",
    "start = 0\n",
    "end = 1\n",
    "step = 0.02\n",
    "X = torch.arange(start, end, step).unsqueeze(dim=1)\n",
    "y = weight * X + bias\n",
    "\n",
    "# X[:10], y[:10]"
   ]
  },
  {
   "cell_type": "code",
   "execution_count": 20,
   "id": "02749d8e-fafb-47dd-8a80-d2d8e9d6de02",
   "metadata": {},
   "outputs": [
    {
     "data": {
      "text/plain": [
       "(40, 40, 10, 10)"
      ]
     },
     "execution_count": 20,
     "metadata": {},
     "output_type": "execute_result"
    }
   ],
   "source": [
    "# Create train/test split\n",
    "train_split = int(0.8 * len(X)) # 80% of data used for training set, 20% for testing \n",
    "X_train, y_train = X[:train_split], y[:train_split]\n",
    "X_test, y_test = X[train_split:], y[train_split:]\n",
    "\n",
    "len(X_train), len(y_train), len(X_test), len(y_test)"
   ]
  },
  {
   "cell_type": "code",
   "execution_count": 21,
   "id": "f80006bb-982c-4f37-bc64-80d06e78308d",
   "metadata": {},
   "outputs": [],
   "source": [
    "def plot_predictions(train_data=X_train, \n",
    "                     train_labels=y_train, \n",
    "                     test_data=X_test, \n",
    "                     test_labels=y_test, \n",
    "                     predictions=None):\n",
    "    \n",
    "  plt.figure(figsize=(10, 7))\n",
    "\n",
    "  # Plot training data in blue\n",
    "  plt.scatter(train_data, train_labels, c=\"b\", s=4, label=\"Training data\")\n",
    "  \n",
    "  # Plot test data in green\n",
    "  plt.scatter(test_data, test_labels, c=\"g\", s=4, label=\"Testing data\")\n",
    "\n",
    "  if predictions is not None:\n",
    "    # Plot the predictions in red (predictions were made on the test data)\n",
    "    plt.scatter(test_data, predictions, c=\"r\", s=4, label=\"Predictions\")\n",
    "\n",
    "  # Show the legend\n",
    "  plt.legend(prop={\"size\": 14});"
   ]
  },
  {
   "cell_type": "code",
   "execution_count": 22,
   "id": "79a9876b-3246-4c52-a836-44aca580b2eb",
   "metadata": {},
   "outputs": [],
   "source": [
    "# plot_predictions()"
   ]
  },
  {
   "cell_type": "code",
   "execution_count": 23,
   "id": "b32e6fb8-0cfa-4648-8e91-d9b0fcaa0eb9",
   "metadata": {},
   "outputs": [],
   "source": [
    "class LinearRegressionModel(nn.Module):\n",
    "    def __init__(self):\n",
    "        super().__init__() \n",
    "        self.weights = nn.Parameter(torch.randn(1, dtype=torch.float), requires_grad=True)\n",
    "        self.bias = nn.Parameter(torch.randn(1, dtype=torch.float), requires_grad=True)\n",
    "\n",
    "    def forward(self, x:torch.Tensor) -> torch.Tensor:\n",
    "        return self.weights * x + self.bias"
   ]
  },
  {
   "cell_type": "code",
   "execution_count": 24,
   "id": "899a3f99-53cb-42af-aae9-a115eab0c220",
   "metadata": {},
   "outputs": [
    {
     "data": {
      "text/plain": [
       "[Parameter containing:\n",
       " tensor([0.3367], requires_grad=True),\n",
       " Parameter containing:\n",
       " tensor([0.1288], requires_grad=True)]"
      ]
     },
     "execution_count": 24,
     "metadata": {},
     "output_type": "execute_result"
    }
   ],
   "source": [
    "torch.manual_seed(42)\n",
    "\n",
    "model_0 = LinearRegressionModel()\n",
    "list(model_0.parameters())"
   ]
  },
  {
   "cell_type": "code",
   "execution_count": 25,
   "id": "467d32b8-9216-48c2-bf9d-e9c3492a7616",
   "metadata": {},
   "outputs": [
    {
     "data": {
      "text/plain": [
       "OrderedDict([('weights', tensor([0.3367])), ('bias', tensor([0.1288]))])"
      ]
     },
     "execution_count": 25,
     "metadata": {},
     "output_type": "execute_result"
    }
   ],
   "source": [
    "# List named parameters \n",
    "model_0.state_dict()"
   ]
  },
  {
   "cell_type": "code",
   "execution_count": 26,
   "id": "32a90f29-e5ca-448e-be33-ab1813f0a5ce",
   "metadata": {},
   "outputs": [],
   "source": [
    "with torch.inference_mode(): \n",
    "    y_preds = model_0(X_test)"
   ]
  },
  {
   "cell_type": "code",
   "execution_count": 27,
   "id": "a2a025d2-6078-48dc-b588-d148a9ad0781",
   "metadata": {},
   "outputs": [],
   "source": [
    "# plot_predictions(predictions = y_preds)"
   ]
  },
  {
   "cell_type": "code",
   "execution_count": 28,
   "id": "5e31e875-a7fa-46fd-8bde-c65f5d1742ea",
   "metadata": {},
   "outputs": [],
   "source": [
    "import torch.optim as optim\n",
    "\n",
    "loss_fn = nn.L1Loss()\n",
    "optimizer = optim.SGD(params=model_0.parameters(), lr=0.01)"
   ]
  },
  {
   "cell_type": "code",
   "execution_count": 29,
   "id": "73eb6dce-cf7a-4207-98f6-54d82e20156c",
   "metadata": {},
   "outputs": [],
   "source": [
    "# model_0.to(device)"
   ]
  },
  {
   "cell_type": "code",
   "execution_count": 30,
   "id": "dbaebbe8-3686-40e9-bcc1-52d33e554f1b",
   "metadata": {},
   "outputs": [],
   "source": [
    "train_loss_values = []\n",
    "test_loss_values = []\n",
    "epoch_count = []\n",
    "\n",
    "def train_and_test(epochs):\n",
    "    for epoch in range(epochs):\n",
    "        model_0.train()\n",
    "        train_output = model_0(X_train)\n",
    "        loss = loss_fn(train_output, y_train)\n",
    "        optimizer.zero_grad()\n",
    "        loss.backward()\n",
    "        optimizer.step()\n",
    "        \n",
    "        model_0.eval()\n",
    "        with torch.inference_mode():  \n",
    "            test_output = model_0(X_test)\n",
    "            test_loss = loss_fn(test_output, y_test.type(torch.float))\n",
    "            if epoch % 10 == 0:\n",
    "                epoch_count.append(epoch)\n",
    "                train_loss_values.append(loss.detach().numpy())\n",
    "                test_loss_values.append(test_loss.detach().numpy())\n",
    "                print(f'Epoch = {epoch}, Loss = {loss}, Test Loss = {test_loss}')\n",
    "    print('DONE')"
   ]
  },
  {
   "cell_type": "code",
   "execution_count": 31,
   "id": "a0507239-64d3-475d-bbde-b90a9867c1da",
   "metadata": {},
   "outputs": [
    {
     "name": "stdout",
     "output_type": "stream",
     "text": [
      "Epoch = 0, Loss = 0.31288138031959534, Test Loss = 0.48106518387794495\n",
      "Epoch = 10, Loss = 0.1976713240146637, Test Loss = 0.3463551998138428\n",
      "Epoch = 20, Loss = 0.08908725529909134, Test Loss = 0.21729660034179688\n",
      "Epoch = 30, Loss = 0.053148526698350906, Test Loss = 0.14464017748832703\n",
      "Epoch = 40, Loss = 0.04543796554207802, Test Loss = 0.11360953003168106\n",
      "Epoch = 50, Loss = 0.04167863354086876, Test Loss = 0.09919948130846024\n",
      "Epoch = 60, Loss = 0.03818932920694351, Test Loss = 0.08886633068323135\n",
      "Epoch = 70, Loss = 0.03476089984178543, Test Loss = 0.0805937647819519\n",
      "Epoch = 80, Loss = 0.03132382780313492, Test Loss = 0.07232122868299484\n",
      "Epoch = 90, Loss = 0.02788740023970604, Test Loss = 0.06473556160926819\n",
      "DONE\n",
      "CPU times: user 15 ms, sys: 1.12 ms, total: 16.2 ms\n",
      "Wall time: 15.3 ms\n"
     ]
    }
   ],
   "source": [
    "%time train_and_test(100)"
   ]
  },
  {
   "cell_type": "code",
   "execution_count": 32,
   "id": "27024455-66c2-4b8e-8098-a0384226a579",
   "metadata": {},
   "outputs": [
    {
     "data": {
      "text/plain": [
       "OrderedDict([('weights', tensor([0.5784])), ('bias', tensor([0.3513]))])"
      ]
     },
     "execution_count": 32,
     "metadata": {},
     "output_type": "execute_result"
    }
   ],
   "source": [
    "model_0.state_dict()"
   ]
  },
  {
   "cell_type": "code",
   "execution_count": 33,
   "id": "fb5574e9-daf8-4158-b2af-3d99cdeaf348",
   "metadata": {},
   "outputs": [
    {
     "data": {
      "image/png": "[encoded data removed]",
      "text/plain": [
       "<Figure size 640x480 with 1 Axes>"
      ]
     },
     "metadata": {},
     "output_type": "display_data"
    }
   ],
   "source": [
    "plt.plot(epoch_count, train_loss_values, label=\"Train loss\")\n",
    "plt.plot(epoch_count, test_loss_values, label=\"Test loss\")\n",
    "plt.title(\"Training and test loss curves\")\n",
    "plt.ylabel(\"Loss\")\n",
    "plt.xlabel(\"Epochs\")\n",
    "plt.legend();"
   ]
  },
  {
   "cell_type": "code",
   "execution_count": 34,
   "id": "47dda3e0-8390-4622-a274-3d6b43b3a740",
   "metadata": {},
   "outputs": [
    {
     "data": {
      "text/plain": [
       "tensor([[0.8141],\n",
       "        [0.8256],\n",
       "        [0.8372],\n",
       "        [0.8488],\n",
       "        [0.8603],\n",
       "        [0.8719],\n",
       "        [0.8835],\n",
       "        [0.8950],\n",
       "        [0.9066],\n",
       "        [0.9182]])"
      ]
     },
     "execution_count": 34,
     "metadata": {},
     "output_type": "execute_result"
    }
   ],
   "source": [
    "model_0.eval()\n",
    "\n",
    "with torch.inference_mode():\n",
    "  # model_0.to(device)\n",
    "  # X_test = X_test.to(device)\n",
    "  y_preds = model_0(X_test)\n",
    "y_preds"
   ]
  },
  {
   "cell_type": "code",
   "execution_count": 35,
   "id": "2956d16a-c4e9-4be8-9cf0-668a260be4de",
   "metadata": {},
   "outputs": [
    {
     "data": {
      "image/png": "[encoded data removed]",
      "text/plain": [
       "<Figure size 1000x700 with 1 Axes>"
      ]
     },
     "metadata": {},
     "output_type": "display_data"
    }
   ],
   "source": [
    "plot_predictions(predictions=y_preds)"
   ]
  },
  {
   "cell_type": "code",
   "execution_count": 36,
   "id": "613a1f9a-698e-4181-91a7-54cc47971a90",
   "metadata": {},
   "outputs": [
    {
     "name": "stdout",
     "output_type": "stream",
     "text": [
      "Saving model to: models/01_pytorch_workflow_model_0.pth\n"
     ]
    }
   ],
   "source": [
    "# saving the model to device\n",
    "from pathlib import Path\n",
    "\n",
    "# 1. Create models directory \n",
    "MODEL_PATH = Path(\"models\")\n",
    "MODEL_PATH.mkdir(parents=True, exist_ok=True)\n",
    "\n",
    "# 2. Create model save path \n",
    "MODEL_NAME = \"01_pytorch_workflow_model_0.pth\"\n",
    "MODEL_SAVE_PATH = MODEL_PATH / MODEL_NAME\n",
    "\n",
    "# 3. Save the model state dict \n",
    "print(f\"Saving model to: {MODEL_SAVE_PATH}\")\n",
    "torch.save(obj=model_0.state_dict(),\n",
    "           f=MODEL_SAVE_PATH) "
   ]
  },
  {
   "cell_type": "code",
   "execution_count": 37,
   "id": "959ec7e5-8326-444e-bd91-20b578a9c700",
   "metadata": {},
   "outputs": [
    {
     "name": "stdout",
     "output_type": "stream",
     "text": [
      "-rw-r--r--  1 poorvibhatia  staff  1680  5 Jan 18:12 models/01_pytorch_workflow_model_0.pth\n"
     ]
    }
   ],
   "source": [
    "# Check the saved file path\n",
    "!ls -l models/01_pytorch_workflow_model_0.pth"
   ]
  },
  {
   "cell_type": "code",
   "execution_count": 38,
   "id": "d1d9aa76-74ac-44fd-85c1-b3274cb346f9",
   "metadata": {},
   "outputs": [
    {
     "name": "stderr",
     "output_type": "stream",
     "text": [
      "/var/folders/fz/m3b664vj5hq4kdmwr645k9_h0000gn/T/ipykernel_74838/1296048670.py:5: FutureWarning: You are using `torch.load` with `weights_only=False` (the current default value), which uses the default pickle module implicitly. It is possible to construct malicious pickle data which will execute arbitrary code during unpickling (See https://github.com/pytorch/pytorch/blob/main/SECURITY.md#untrusted-models for more details). In a future release, the default value for `weights_only` will be flipped to `True`. This limits the functions that could be executed during unpickling. Arbitrary objects will no longer be allowed to be loaded via this mode unless they are explicitly allowlisted by the user via `torch.serialization.add_safe_globals`. We recommend you start setting `weights_only=True` for any use case where you don't have full control of the loaded file. Please open an issue on GitHub for any issues related to this experimental feature.\n",
      "  loaded_model_0.load_state_dict(torch.load(f=MODEL_SAVE_PATH))\n"
     ]
    },
    {
     "data": {
      "text/plain": [
       "<All keys matched successfully>"
      ]
     },
     "execution_count": 38,
     "metadata": {},
     "output_type": "execute_result"
    }
   ],
   "source": [
    "# Instantiate a new instance of our model (this will be instantiated with random weights)\n",
    "loaded_model_0 = LinearRegressionModel()\n",
    "\n",
    "# Load the state_dict of our saved model (this will update the new instance of our model with trained weights)\n",
    "loaded_model_0.load_state_dict(torch.load(f=MODEL_SAVE_PATH))"
   ]
  },
  {
   "cell_type": "code",
   "execution_count": 39,
   "id": "f8843168-efff-4aed-ad8c-2179903b9134",
   "metadata": {},
   "outputs": [],
   "source": [
    "loaded_model_0.eval()\n",
    "with torch.inference_mode():\n",
    "    loaded_model_preds = loaded_model_0(X_test)"
   ]
  },
  {
   "cell_type": "code",
   "execution_count": 40,
   "id": "44b31386-90c1-430a-bb60-fc303113e935",
   "metadata": {},
   "outputs": [
    {
     "data": {
      "text/plain": [
       "tensor([[True],\n",
       "        [True],\n",
       "        [True],\n",
       "        [True],\n",
       "        [True],\n",
       "        [True],\n",
       "        [True],\n",
       "        [True],\n",
       "        [True],\n",
       "        [True]])"
      ]
     },
     "execution_count": 40,
     "metadata": {},
     "output_type": "execute_result"
    }
   ],
   "source": [
    "loaded_model_preds == y_preds"
   ]
  },
  {
   "cell_type": "code",
   "execution_count": 41,
   "id": "149c6d5a-7e23-4e6f-b5c0-931cf1cd7454",
   "metadata": {},
   "outputs": [
    {
     "name": "stdout",
     "output_type": "stream",
     "text": [
      "Using device: mps\n"
     ]
    }
   ],
   "source": [
    "device = \"mps\" if torch.mps.is_available() else \"cpu\"\n",
    "print(f\"Using device: {device}\")"
   ]
  },
  {
   "cell_type": "code",
   "execution_count": 66,
   "id": "2a0c2333-3534-45e9-959a-aad01a2abeb5",
   "metadata": {},
   "outputs": [
    {
     "data": {
      "text/plain": [
       "(LinearRegressionModelV2(\n",
       "   (linear_layer): Linear(in_features=1, out_features=1, bias=True)\n",
       " ),\n",
       " OrderedDict([('linear_layer.weight', tensor([[0.7645]])),\n",
       "              ('linear_layer.bias', tensor([0.8300]))]))"
      ]
     },
     "execution_count": 66,
     "metadata": {},
     "output_type": "execute_result"
    }
   ],
   "source": [
    "class LinearRegressionModelV2(nn.Module):\n",
    "    def __init__(self):\n",
    "        super().__init__()\n",
    "        self.linear_layer = nn.Linear(in_features=1, \n",
    "                                      out_features=1)\n",
    "    \n",
    "    def forward(self, x: torch.Tensor) -> torch.Tensor:\n",
    "        return self.linear_layer(x)\n",
    "\n",
    "torch.manual_seed(42)\n",
    "model_1 = LinearRegressionModelV2()\n",
    "model_1, model_1.state_dict()"
   ]
  },
  {
   "cell_type": "code",
   "execution_count": 67,
   "id": "f6fab156-681a-4145-bea2-71ef7e9db9b9",
   "metadata": {},
   "outputs": [
    {
     "data": {
      "text/plain": [
       "device(type='cpu')"
      ]
     },
     "execution_count": 67,
     "metadata": {},
     "output_type": "execute_result"
    }
   ],
   "source": [
    "next(model_1.parameters()).device"
   ]
  },
  {
   "cell_type": "code",
   "execution_count": 68,
   "id": "caebfbcb-5d15-4ebd-afdb-37c90b7f7a2d",
   "metadata": {},
   "outputs": [
    {
     "data": {
      "text/plain": [
       "device(type='mps', index=0)"
      ]
     },
     "execution_count": 68,
     "metadata": {},
     "output_type": "execute_result"
    }
   ],
   "source": [
    "model_1.to(device) \n",
    "next(model_1.parameters()).device"
   ]
  },
  {
   "cell_type": "code",
   "execution_count": 69,
   "id": "644d5b68-8723-4347-88d2-d41079d8058a",
   "metadata": {},
   "outputs": [],
   "source": [
    "loss_fn = nn.L1Loss()\n",
    "optimizer = optim.SGD(params=model_1.parameters(), lr=0.01)\n",
    "\n",
    "X_train = X_train.to(device)\n",
    "X_test = X_test.to(device)\n",
    "y_train = y_train.to(device)\n",
    "y_test = y_test.to(device)\n",
    "\n",
    "def train_and_test_new(epochs):\n",
    "    for epoch in range(epochs):\n",
    "        model_1.train()\n",
    "        train_output = model_1(X_train)\n",
    "        loss = loss_fn(train_output, y_train)\n",
    "        optimizer.zero_grad()\n",
    "        loss.backward()\n",
    "        optimizer.step()\n",
    "        \n",
    "        model_1.eval()\n",
    "        with torch.inference_mode():  \n",
    "            test_output = model_1(X_test)\n",
    "            test_loss = loss_fn(test_output, y_test)\n",
    "            if epoch % 100 == 0:\n",
    "                print(f'Epoch = {epoch}, Loss = {loss}, Test Loss = {test_loss}')\n",
    "    print('DONE')"
   ]
  },
  {
   "cell_type": "code",
   "execution_count": 71,
   "id": "92ab9c78-d5eb-4dcf-adee-7514974dad3a",
   "metadata": {},
   "outputs": [
    {
     "name": "stdout",
     "output_type": "stream",
     "text": [
      "Epoch = 0, Loss = 0.0012645028764382005, Test Loss = 0.013801807537674904\n",
      "Epoch = 100, Loss = 0.0012645028764382005, Test Loss = 0.013801807537674904\n",
      "Epoch = 200, Loss = 0.0012645028764382005, Test Loss = 0.013801807537674904\n",
      "Epoch = 300, Loss = 0.0012645028764382005, Test Loss = 0.013801807537674904\n",
      "Epoch = 400, Loss = 0.0012645028764382005, Test Loss = 0.013801807537674904\n",
      "Epoch = 500, Loss = 0.0012645028764382005, Test Loss = 0.013801807537674904\n",
      "Epoch = 600, Loss = 0.0012645028764382005, Test Loss = 0.013801807537674904\n",
      "Epoch = 700, Loss = 0.0012645028764382005, Test Loss = 0.013801807537674904\n",
      "Epoch = 800, Loss = 0.0012645028764382005, Test Loss = 0.013801807537674904\n",
      "Epoch = 900, Loss = 0.0012645028764382005, Test Loss = 0.013801807537674904\n",
      "DONE\n"
     ]
    }
   ],
   "source": [
    "train_and_test_new(1000)"
   ]
  },
  {
   "cell_type": "code",
   "execution_count": 72,
   "id": "29c5039e-346a-4787-99ef-b89aded96faf",
   "metadata": {},
   "outputs": [
    {
     "name": "stdout",
     "output_type": "stream",
     "text": [
      "The model learned the following values for weights and bias:\n",
      "OrderedDict([('linear_layer.weight', tensor([[0.6968]], device='mps:0')),\n",
      "             ('linear_layer.bias', tensor([0.3025], device='mps:0'))])\n",
      "\n",
      "And the original values for weights and bias are:\n",
      "weights: 0.7, bias: 0.3\n"
     ]
    }
   ],
   "source": [
    "from pprint import pprint # pprint = pretty print, see: https://docs.python.org/3/library/pprint.html \n",
    "print(\"The model learned the following values for weights and bias:\")\n",
    "pprint(model_1.state_dict())\n",
    "print(\"\\nAnd the original values for weights and bias are:\")\n",
    "print(f\"weights: {weight}, bias: {bias}\")"
   ]
  },
  {
   "cell_type": "code",
   "execution_count": 74,
   "id": "704855fb-43ce-49d8-b5cd-124ba584cd77",
   "metadata": {},
   "outputs": [
    {
     "data": {
      "image/png": "[encoded data removed]",
      "text/plain": [
       "<Figure size 1000x700 with 1 Axes>"
      ]
     },
     "metadata": {},
     "output_type": "display_data"
    }
   ],
   "source": [
    "with torch.inference_mode():\n",
    "    new_y_preds = model_1(X_test)\n",
    "    \n",
    "plot_predictions(predictions=new_y_preds.cpu())"
   ]
  },
  {
   "cell_type": "code",
   "execution_count": null,
   "id": "bd09fdf1-4b23-443f-83af-0b498d81db8d",
   "metadata": {},
   "outputs": [],
   "source": []
  }
 ],
 "metadata": {
  "kernelspec": {
   "display_name": "Python 3 (ipykernel)",
   "language": "python",
   "name": "python3"
  },
  "language_info": {
   "codemirror_mode": {
    "name": "ipython",
    "version": 3
   },
   "file_extension": ".py",
   "mimetype": "text/x-python",
   "name": "python",
   "nbconvert_exporter": "python",
   "pygments_lexer": "ipython3",
   "version": "3.10.6"
  }
 },
 "nbformat": 4,
 "nbformat_minor": 5
}
